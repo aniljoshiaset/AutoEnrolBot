# Version 0.0.1

# All you need to run this is Python 3, Selenium module and Gecko Driver executable file in the system path. 
# Also, try with different speeds because the script takes time to find javascript element which take time to load.

# You can install the any module using the following command from command line:-

# pip install <name of the module>

# Import all the necessary modules

from selenium import webdriver

from selenium.webdriver.common.keys import Keys

from selenium.common.exceptions import TimeoutException

from selenium.webdriver.support.ui import WebDriverWait

from selenium.webdriver.support.ui import Select

from selenium.webdriver.common.by import By

from selenium.webdriver.support import expected_conditions

from selenium.common.exceptions import NoSuchElementException

import re

import time

import getpass

# Setting the login URL

url='https://login.uconn.edu/cas/login?service=https%3A%2F%2Fstudent.studentadmin.uconn.edu%2Fpsp%2FCSPR%2F%3Fcmd%3Dstart&renew=true'

# Defining a function auth_speed that enters and validates the speed entered by user

def auth_speed():
    
    speed=input('Enter the possible speed of your Internet connection at this time i.e High(h), Medium(m) or Low(l) : ').strip()
    speed=speed.lower()    
    if speed=='high' or speed=='h' or speed=='medium' or speed=='m' or speed=='low' or speed=='l':
        if speed[0]=='h':
            act_time=5

        elif speed[0]=='m':
            act_time=10

        else:
            act_time=20

    else:
        auth_speed()
        
    return act_time        

# Defining a function preffered_time that enters and validates the preferred time entered by user

def preffered_time():
    
    pre_input=input('Enter your preferred time i.e Evening(E) or Morning(M) : ').strip()
    pre_input=pre_input.lower()    
    if pre_input=='morning' or pre_input=='m' or pre_input=='evening' or pre_input=='e':
        if pre_input[0]=='e':
            pref_time='AM'

        else:
            pref_time='PM'

    else:
        preffered_time()
        
    return pref_time  

# Defining a function department_name that enters and validates the department name entered by user

def department_name():
    
    dep_input=input('Enter Department Name i.e. OPIM(o) or MGMT(m) : ').strip()
    dep_input=dep_input.lower()    
    if dep_input=='opim' or dep_input=='o' or dep_input=='mgmt' or dep_input=='m':
        if dep_input[0]=='m':
            dep_name='MGMT - Management'

        else:
            dep_name='OPIM - Operations And Info Mgmt'

    else:
        department_name()
        
    return dep_name        

# User enters the Net ID 

net_id=input('Enter your Net_ID : ').strip()

# User enters the Password

passwrd=getpass.getpass('Enter your Password : ')

# User enters the Class code

cl_code=input('Enter the Class Code : ').strip()

# User enters the name of Preferred Professor

prof_name=input('Enter the Professor Name as given : ').strip()

# Call the auth_speed to enter and validate the speed entered by the user

act_time=auth_speed()

# Call the preffered_time to enter and validate the preferred time entered by the user

pref_time=preffered_time()

# Call the department_name to enter and validate the department name entered by the user

dep_name=department_name()

# Create a new Instance of Firefox this is done in order to deal with the Javascript present in the webpage

driver = webdriver.Firefox()

# Open the URL

driver.get(url)

# Wait for sometime according to the speed of your connection so that the element can be loaded and any javascript can be loaded

time.sleep(act_time)

# Find the text element where the user needs to input E-mail

email = driver.find_element_by_xpath("//input[@id='username' and @name='username' and @type='text']")

# Send the Net ID recieved via user to the text box 

email.send_keys(net_id)

# Find the text element where the user needs to input Password

password = driver.find_element_by_xpath("//input[@id='password'and @name='password' and @type='password']")

# Send the Password recieved via user to the text box 

password.send_keys(passwrd)

# Find the login button element which needs to be clicked in order to proceed

button = driver.find_element_by_xpath("//input[@id='button' and @type='submit']")

# Click the button element

button.click()

# Wait for sometime according to the speed of your connection so that the element can be loaded and any javascript can be loaded

time.sleep(act_time)

# Find the menu dropdown

menu=driver.find_element_by_xpath("//a[@id='pthnavbca_PORTAL_ROOT_OBJECT']")

# Click the element

menu.click()

# Wait for sometime according to the speed of your connection so that the element can be loaded and any javascript can be loaded

time.sleep(act_time)

# Find the Self Service link

self_service=driver.find_element_by_xpath("//a[@id='fldra_UC_SELF_SERVICE']")

# Click the element

self_service.click()

# Wait for sometime according to the speed of your connection so that the element can be loaded and any javascript can be loaded

time.sleep(act_time)

student_center=driver.find_element_by_link_text('Student Center')
student_center.click()

# Wait for sometime according to the speed of your connection so that the element can be loaded and any javascript can be loaded

time.sleep(act_time)

# Find the Frame in which  enroll hyperlink is present
frame = driver.find_element_by_xpath('//iframe[@name="TargetContent"]')

# Switch to that frame in order to access that element
driver.switch_to.frame(frame)

# Find the enroll link
enrol = driver.find_element_by_id("DERIVED_SSS_SCR_SSS_LINK_ANCHOR3")

# Click on the hyperlink 
enrol.click()

# Wait for sometime according to the speed of your connection so that the element can be loaded and any javascript can be loaded

time.sleep(act_time)

# Find the Class code text box
class_code=driver.find_element_by_xpath("//input[@id='DERIVED_REGFRM1_CLASS_NBR' and @type='text']")

# Send the class code as entered by the user
class_code.send_keys(cl_code)

# Find the Search button element
enter = driver.find_element_by_id("DERIVED_REGFRM1_SSR_PB_SRCH")

# Click on the button
enter.click()

# Wait for sometime according to the speed of your connection so that the element can be loaded and any javascript can be loaded
time.sleep(act_time)

# This is designed only for the open classes

# Find the dropdown element for Department name
select_subj=Select(driver.find_element_by_id('SSR_CLSRCH_WRK_SUBJECT_SRCH$0'))

# Select the required department name
select_subj.select_by_visible_text(dep_name)

# Find the Class code text box
subj_code=driver.find_element_by_xpath("//input[@id='SSR_CLSRCH_WRK_CATALOG_NBR$1' and @type='text']")

# Click on the button
subj_code.send_keys(cl_code)

# Find the dropdown element for Campus Name
select_campus = Select(driver.find_element_by_id('SSR_CLSRCH_WRK_CAMPUS$2'))

# Select the required Campus name - I have assumed it to be Hartford Campus because I programmed it for my case
select_campus.select_by_visible_text('Hartford')

# Find the dropdown element for Career Path
select_career=Select(driver.find_element_by_id('SSR_CLSRCH_WRK_ACAD_CAREER$4'))

# Select the required Career Path - I have assumed it to be Graduate as I programmed it for my case
select_career.select_by_visible_text('Graduate')

# Wait for sometime according to the speed of your connection so that the element can be loaded and any javascript can be loaded

time.sleep(act_time)

# Find the Search button element
search=driver.find_element_by_xpath("//a[@id='CLASS_SRCH_WRK2_SSR_PB_CLASS_SRCH']")

# Click on the button
search.click()

# Wait for sometime according to the speed of your connection so that the element can be loaded and any javascript can be loaded
time.sleep(act_time)

# Find all the possible timings present for the class
timings_l = re.findall(r'\bMTG_DAYTIME.*',driver.page_source)

# Create an empty list to store all the available timings
timings=[]

# Find the general path of the element that contains the timings
timing_str="//span[@id='MTG_DAYTIME$"

# Loop through all possible timing elements and store it in the list created above[A more pythonic way would be to use list comprehensions]
for i in range(0,len(timings_l)):
    timing_str_form=timing_str+str(i)+"']"
    timing=driver.find_element_by_xpath(timing_str_form)
    timings.append(timing.text)

# Find all the possible Professors present for the class chosen
professors_l= re.findall(r'\bMTG_INSTR.*',driver.page_source)

# Create an empty list to store all the available professor names
professors=[]

# Find the general path of the element that contains name of the professors
prof_str="//span[@id='MTG_INSTR$"
for i in range(0,len(professors_l)):
    prof_str_form=prof_str+str(i)+"']"
    prof=driver.find_element_by_xpath(prof_str_form)
    professors.append(prof.text) 

# Create an empty list to store all the available professor names
possible_prof=[]

# Loop through all possible Professor name elements and store it in the list created above[A more pythonic way would be to use list comprehensions]
for i in range(len(professors)):
    if (re.search(prof_name, professors[i], re.I)):
        possible_prof.append(i)

# Create an empty list to store all the available classes according to the timings
possible_class=[]  

print(pref_time)
# Conditional entry into the above list according to the preferred timings of the user
if pref_time=='AM':
    for j in range(len(timings)):
        if (re.search(r'AM -', timings[j], re.I)):
            possible_class.append(j)
else:
    for j in range(len(timings)):
        if (re.search(r'PM -', timings[j], re.I)):
            possible_class.append(j)
print(possible_class)
# Find the general path of the select button present
confirm_str="//a[@id='SSR_PB_SELECT$"

# Create an empty list to store all the available options in terms of class and timings entered by user
choose_options=[]

if (len(possible_prof)==0):
    print('Your Professor preference is not available, hence choosing any available class')
# If your preferred professor is not available then it choose any class according to your preferred time
    option_selected=possible_class[0]
    confirm_str_form=confirm_str+str(option_selected)+"']"
    confirm_button=driver.find_element_by_xpath(confirm_str_form)
    confirm_button.click()
else:
    for k in possible_prof:
        if k in possible_class:
            choose_options.append(k)
    confirm_str_form=confirm_str+str(choose_options[0])+"']"
    confirm_button=driver.find_element_by_xpath(confirm_str_form)
    confirm_button.click()       

# Wait for sometime according to the speed of your connection so that the element can be loaded and any javascript can be loaded
time.sleep(act_time)

# Find the button so that it can be added to the enrollment cart
cart_add=driver.find_element_by_xpath("//a[@id='DERIVED_CLS_DTL_NEXT_PB$280$']")

# Click on the button
cart_add.click()

# Similarly the classes in the cart can be confirmed for enrollment. I didn't proceed further because I am already in the middle of a semester and I don't want to screw my account.
